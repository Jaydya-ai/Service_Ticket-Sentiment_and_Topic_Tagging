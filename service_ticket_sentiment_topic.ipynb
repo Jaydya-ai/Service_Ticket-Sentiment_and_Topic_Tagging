{
 "cells": [
  {
   "cell_type": "markdown",
   "id": "38978cef",
   "metadata": {},
   "source": [
    "# Service‑Ticket Sentiment & Topic Tagging\n",
    "This notebook walks through generating a synthetic dataset, training two classical ML models (Logistic Regression for **sentiment**, k‑NN for multi‑label **topic** tagging), evaluating them, saving artefacts, and exposing a simple Flask REST endpoint."
   ]
  },
  {
   "cell_type": "code",
   "execution_count": 64,
   "id": "ae0b21db",
   "metadata": {},
   "outputs": [],
   "source": [
    "import random, pickle, os, json\n",
    "from pathlib import Path\n",
    "\n",
    "import pandas as pd\n",
    "from sklearn.feature_extraction.text import TfidfVectorizer\n",
    "from sklearn.linear_model import LogisticRegression\n",
    "from sklearn.neighbors import KNeighborsClassifier\n",
    "from sklearn.preprocessing import MultiLabelBinarizer\n",
    "from sklearn.model_selection import train_test_split\n",
    "from sklearn.metrics import accuracy_score, f1_score\n",
    "\n",
    "DATA_DIR = Path.cwd()\n"
   ]
  },
  {
   "cell_type": "markdown",
   "id": "6df0e638",
   "metadata": {},
   "source": [
    "## 1. Generate a synthetic dataset"
   ]
  },
  {
   "cell_type": "code",
   "execution_count": 67,
   "id": "9cebc0f2",
   "metadata": {},
   "outputs": [
    {
     "data": {
      "text/html": [
       "<div>\n",
       "<style scoped>\n",
       "    .dataframe tbody tr th:only-of-type {\n",
       "        vertical-align: middle;\n",
       "    }\n",
       "\n",
       "    .dataframe tbody tr th {\n",
       "        vertical-align: top;\n",
       "    }\n",
       "\n",
       "    .dataframe thead th {\n",
       "        text-align: right;\n",
       "    }\n",
       "</style>\n",
       "<table border=\"1\" class=\"dataframe\">\n",
       "  <thead>\n",
       "    <tr style=\"text-align: right;\">\n",
       "      <th></th>\n",
       "      <th>ticket_text</th>\n",
       "      <th>sentiment</th>\n",
       "      <th>topic</th>\n",
       "    </tr>\n",
       "  </thead>\n",
       "  <tbody>\n",
       "    <tr>\n",
       "      <th>0</th>\n",
       "      <td>Thanks for the quick resolution of my invoice ...</td>\n",
       "      <td>positive</td>\n",
       "      <td>billing</td>\n",
       "    </tr>\n",
       "    <tr>\n",
       "      <th>1</th>\n",
       "      <td>Appreciate the support on app crashes on start...</td>\n",
       "      <td>positive</td>\n",
       "      <td>technical</td>\n",
       "    </tr>\n",
       "    <tr>\n",
       "      <th>2</th>\n",
       "      <td>Thanks for the quick resolution of please add ...</td>\n",
       "      <td>positive</td>\n",
       "      <td>feature</td>\n",
       "    </tr>\n",
       "    <tr>\n",
       "      <th>3</th>\n",
       "      <td>This is unacceptable: my invoice is incorrect.</td>\n",
       "      <td>negative</td>\n",
       "      <td>billing</td>\n",
       "    </tr>\n",
       "    <tr>\n",
       "      <th>4</th>\n",
       "      <td>Appreciate the support on please add a dark‑mo...</td>\n",
       "      <td>positive</td>\n",
       "      <td>feature</td>\n",
       "    </tr>\n",
       "  </tbody>\n",
       "</table>\n",
       "</div>"
      ],
      "text/plain": [
       "                                         ticket_text sentiment      topic\n",
       "0  Thanks for the quick resolution of my invoice ...  positive    billing\n",
       "1  Appreciate the support on app crashes on start...  positive  technical\n",
       "2  Thanks for the quick resolution of please add ...  positive    feature\n",
       "3     This is unacceptable: my invoice is incorrect.  negative    billing\n",
       "4  Appreciate the support on please add a dark‑mo...  positive    feature"
      ]
     },
     "execution_count": 67,
     "metadata": {},
     "output_type": "execute_result"
    }
   ],
   "source": [
    "\n",
    "def generate_mock_dataset(n: int = 5000, seed: int = 42) -> pd.DataFrame:\n",
    "    random.seed(seed)\n",
    "    topics_examples = {\n",
    "        \"billing\": [\n",
    "            \"My invoice is incorrect\",\n",
    "            \"Need refund for over‑charge\",\n",
    "            \"Please update my billing address\",\n",
    "        ],\n",
    "        \"technical\": [\n",
    "            \"App crashes on start‑up\",\n",
    "            \"Cannot connect to server\",\n",
    "            \"Error 500 while uploading a file\",\n",
    "        ],\n",
    "        \"account\": [\n",
    "            \"Password‑reset link not working\",\n",
    "            \"I can't update my profile details\",\n",
    "            \"Account locked after failed attempts\",\n",
    "        ],\n",
    "        \"service\": [\n",
    "            \"Internet has been down since morning\",\n",
    "            \"Pages load very slowly\",\n",
    "            \"Service unavailable in my area\",\n",
    "        ],\n",
    "        \"feature\": [\n",
    "            \"Please add a dark‑mode option\",\n",
    "            \"Requesting integration with Slack\",\n",
    "            \"Need an export‑to‑CSV feature\",\n",
    "        ],\n",
    "    }\n",
    "    pos_templates = [\n",
    "        \"Thanks for the quick resolution of {}.\",\n",
    "        \"Great job handling {}.\",\n",
    "        \"Appreciate the support on {}.\"\n",
    "    ]\n",
    "    neg_templates = [\n",
    "        \"I'm frustrated because {}!\",\n",
    "        \"Still waiting for a fix on {}.\",\n",
    "        \"This is unacceptable: {}.\"\n",
    "    ]\n",
    "    records = []\n",
    "    for _ in range(n):\n",
    "        topic = random.choice(list(topics_examples))\n",
    "        base = random.choice(topics_examples[topic])\n",
    "        if random.random() < 0.5:\n",
    "            sentiment = \"negative\"\n",
    "            text = random.choice(neg_templates).format(base.lower())\n",
    "        else:\n",
    "            sentiment = \"positive\"\n",
    "            text = random.choice(pos_templates).format(base.lower())\n",
    "        records.append({\"ticket_text\": text, \"sentiment\": sentiment, \"topic\": topic})\n",
    "    return pd.DataFrame.from_records(records)\n",
    "\n",
    "df = generate_mock_dataset()\n",
    "df.head()\n"
   ]
  },
  {
   "cell_type": "markdown",
   "id": "938061c8",
   "metadata": {},
   "source": [
    "## 2. Vectorise text with TF‑IDF"
   ]
  },
  {
   "cell_type": "code",
   "execution_count": 70,
   "id": "dab2c808",
   "metadata": {},
   "outputs": [],
   "source": [
    "\n",
    "tfidf = TfidfVectorizer(max_features=5000, ngram_range=(1, 2))\n",
    "X = tfidf.fit_transform(df[\"ticket_text\"])\n"
   ]
  },
  {
   "cell_type": "markdown",
   "id": "5e3f9153",
   "metadata": {},
   "source": [
    "## 3. Train a Logistic Regression classifier for sentiment"
   ]
  },
  {
   "cell_type": "code",
   "execution_count": 73,
   "id": "c6ff80b0",
   "metadata": {},
   "outputs": [
    {
     "name": "stdout",
     "output_type": "stream",
     "text": [
      "Sentiment accuracy: 1.000\n"
     ]
    }
   ],
   "source": [
    "\n",
    "y_sent = df[\"sentiment\"]\n",
    "X_train_s, X_test_s, y_train_s, y_test_s = train_test_split(\n",
    "    X, y_sent, test_size=0.2, stratify=y_sent, random_state=42\n",
    ")\n",
    "sent_clf = LogisticRegression(max_iter=1000)\n",
    "sent_clf.fit(X_train_s, y_train_s)\n",
    "sent_acc = accuracy_score(y_test_s, sent_clf.predict(X_test_s))\n",
    "print(f\"Sentiment accuracy: {sent_acc:.3f}\")\n"
   ]
  },
  {
   "cell_type": "markdown",
   "id": "53c4eec8",
   "metadata": {},
   "source": [
    "## 4. Train a k‑NN classifier for multi‑label topic tagging"
   ]
  },
  {
   "cell_type": "code",
   "execution_count": 76,
   "id": "7cd377d6",
   "metadata": {},
   "outputs": [
    {
     "name": "stdout",
     "output_type": "stream",
     "text": [
      "Topic micro‑F1: 1.000\n"
     ]
    }
   ],
   "source": [
    "\n",
    "mlb = MultiLabelBinarizer()\n",
    "y_topic = mlb.fit_transform([[t] for t in df[\"topic\"]])\n",
    "X_train_t, X_test_t, y_train_t, y_test_t = train_test_split(\n",
    "    X, y_topic, test_size=0.2, random_state=42\n",
    ")\n",
    "topic_clf = KNeighborsClassifier(n_neighbors=5)\n",
    "topic_clf.fit(X_train_t, y_train_t)\n",
    "topic_f1 = f1_score(y_test_t, topic_clf.predict(X_test_t), average=\"micro\")\n",
    "print(f\"Topic micro‑F1: {topic_f1:.3f}\")\n"
   ]
  },
  {
   "cell_type": "markdown",
   "id": "b55dfc21",
   "metadata": {},
   "source": [
    "## 5. Save trained artefacts"
   ]
  },
  {
   "cell_type": "code",
   "execution_count": 79,
   "id": "ce763b85",
   "metadata": {},
   "outputs": [
    {
     "name": "stdout",
     "output_type": "stream",
     "text": [
      "Artefacts saved to /Users/jay/Desktop/Service_Ticket Sentiment_and_Topic_Tagging\n"
     ]
    }
   ],
   "source": [
    "\n",
    "os.makedirs(DATA_DIR, exist_ok=True)\n",
    "(df.to_csv(DATA_DIR / \"mock_tickets.csv\", index=False))\n",
    "pickle.dump(tfidf, open(DATA_DIR / \"tfidf_vectorizer.pkl\", \"wb\"))\n",
    "pickle.dump(sent_clf, open(DATA_DIR / \"sentiment_model.pkl\", \"wb\"))\n",
    "pickle.dump(topic_clf, open(DATA_DIR / \"topic_model.pkl\", \"wb\"))\n",
    "pickle.dump(mlb, open(DATA_DIR / \"topic_mlb.pkl\", \"wb\"))\n",
    "print(\"Artefacts saved to\", DATA_DIR)\n"
   ]
  },
  {
   "cell_type": "markdown",
   "id": "4a31856e",
   "metadata": {},
   "source": [
    "## 6. Inference helper"
   ]
  },
  {
   "cell_type": "code",
   "execution_count": 90,
   "id": "dda5c820",
   "metadata": {},
   "outputs": [
    {
     "data": {
      "text/plain": [
       "{'sentiment': 'negative', 'topics': ['billing']}"
      ]
     },
     "execution_count": 90,
     "metadata": {},
     "output_type": "execute_result"
    }
   ],
   "source": [
    "\n",
    "def predict(text: str):\n",
    "    X = tfidf.transform([text])\n",
    "    sentiment = sent_clf.predict(X)[0]\n",
    "    topics = mlb.inverse_transform(topic_clf.predict(X))[0]\n",
    "    return {\"sentiment\": sentiment, \"topics\": list(topics)}\n",
    "\n",
    "predict(\"Still waiting for a fix on my billing address\")\n"
   ]
  },
  {
   "cell_type": "code",
   "execution_count": null,
   "id": "fb3f85e9-196c-4459-98ea-6fc62b4bc234",
   "metadata": {},
   "outputs": [],
   "source": []
  }
 ],
 "metadata": {
  "kernelspec": {
   "display_name": "Python 3 (ipykernel)",
   "language": "python",
   "name": "python3"
  },
  "language_info": {
   "codemirror_mode": {
    "name": "ipython",
    "version": 3
   },
   "file_extension": ".py",
   "mimetype": "text/x-python",
   "name": "python",
   "nbconvert_exporter": "python",
   "pygments_lexer": "ipython3",
   "version": "3.12.4"
  }
 },
 "nbformat": 4,
 "nbformat_minor": 5
}
